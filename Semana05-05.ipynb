{
 "cells": [
  {
   "cell_type": "markdown",
   "id": "b2cebf86",
   "metadata": {},
   "source": [
    "# Semana 05\n",
    "Carlos Granados Pretel"
   ]
  },
  {
   "cell_type": "markdown",
   "id": "3932bbc0",
   "metadata": {},
   "source": [
    "Temas"
   ]
  },
  {
   "cell_type": "markdown",
   "id": "1f7dadf0",
   "metadata": {},
   "source": [
    "1. Números\n",
    "2. Variables\n",
    "3. Manejo de Cadenas\n",
    "3. Ingreso de datos por teclado\n",
    "5. Operadores"
   ]
  },
  {
   "cell_type": "markdown",
   "id": "9fcbf3c7",
   "metadata": {},
   "source": [
    "5. Operadores"
   ]
  },
  {
   "cell_type": "code",
   "execution_count": null,
   "id": "f4bc6e40",
   "metadata": {},
   "outputs": [],
   "source": [
    "# 5.1 Operadores aritmeticos\n",
    "# Se tiene: +,-,*,/,**,//"
   ]
  },
  {
   "cell_type": "code",
   "execution_count": 10,
   "id": "aa9013da",
   "metadata": {},
   "outputs": [
    {
     "name": "stdout",
     "output_type": "stream",
     "text": [
      "13\n",
      "7\n",
      "30\n",
      "3.3333333333333335\n",
      "1\n",
      "1000\n",
      "3\n"
     ]
    }
   ],
   "source": [
    "numero1=10\n",
    "numero2=3\n",
    "suma=numero1+numero2\n",
    "resta=numero1-numero2\n",
    "multiplicacion=numero1*numero2\n",
    "division=numero1/numero2\n",
    "residuo=numero1%numero2\n",
    "potencia=numero1**numero2\n",
    "cociente=numero1//numero2\n",
    "print(suma)\n",
    "print(resta)\n",
    "print(multiplicacion)\n",
    "print(division)\n",
    "print(residuo)\n",
    "print(potencia)\n",
    "print(cociente)\n"
   ]
  },
  {
   "cell_type": "code",
   "execution_count": 11,
   "id": "825c9922",
   "metadata": {},
   "outputs": [
    {
     "name": "stdout",
     "output_type": "stream",
     "text": [
      "8\n"
     ]
    }
   ],
   "source": [
    "# 5.2 Operadores de asignacion\n",
    "# Se tiene =, +=, -=, *=, /=, **=\n",
    "numero=5\n",
    "numero=numero + 3\n",
    "print(numero)"
   ]
  },
  {
   "cell_type": "code",
   "execution_count": 17,
   "id": "c6156fb6",
   "metadata": {},
   "outputs": [
    {
     "name": "stdout",
     "output_type": "stream",
     "text": [
      "8\n"
     ]
    }
   ],
   "source": [
    "# La operacion anterior tambien se puede expresar de la siguinet manera:\n",
    "numero=5\n",
    "numero+=3\n",
    "print(numero)"
   ]
  },
  {
   "cell_type": "code",
   "execution_count": 19,
   "id": "22fa6edd",
   "metadata": {},
   "outputs": [
    {
     "name": "stdout",
     "output_type": "stream",
     "text": [
      "125\n"
     ]
    }
   ],
   "source": [
    "# Ejemplo\n",
    "numero=5\n",
    "numero=numero**3\n",
    "print(numero)"
   ]
  },
  {
   "cell_type": "code",
   "execution_count": 20,
   "id": "6fc1cc77",
   "metadata": {},
   "outputs": [
    {
     "name": "stdout",
     "output_type": "stream",
     "text": [
      "125\n"
     ]
    }
   ],
   "source": [
    "numero=5\n",
    "numero**=3\n",
    "print(numero)"
   ]
  },
  {
   "cell_type": "code",
   "execution_count": 21,
   "id": "a1ea9716",
   "metadata": {},
   "outputs": [],
   "source": [
    "# Operadores de comparacion\n",
    "# Se tiene: ==, !=, <, >, <=, >=\n"
   ]
  },
  {
   "cell_type": "code",
   "execution_count": 22,
   "id": "f5908eb5",
   "metadata": {},
   "outputs": [
    {
     "data": {
      "text/plain": [
       "False"
      ]
     },
     "execution_count": 22,
     "metadata": {},
     "output_type": "execute_result"
    }
   ],
   "source": [
    "# Ejemplo de igualdad:\n",
    "numero1=5\n",
    "numero2=2\n",
    "numero1==numero2"
   ]
  },
  {
   "cell_type": "code",
   "execution_count": 23,
   "id": "dfe9e99e",
   "metadata": {},
   "outputs": [
    {
     "data": {
      "text/plain": [
       "True"
      ]
     },
     "execution_count": 23,
     "metadata": {},
     "output_type": "execute_result"
    }
   ],
   "source": [
    "# Con las cadenas funciona igual\n",
    "nombre1=\"Frank\"\n",
    "nombre2=\"Frank\"\n",
    "nombre1==nombre2"
   ]
  },
  {
   "cell_type": "code",
   "execution_count": 24,
   "id": "848725c0",
   "metadata": {},
   "outputs": [],
   "source": [
    "# 5.4 Operadores Logicos\n",
    "# Se tiene: and, or, not\n",
    "numero1=5\n",
    "numero2=6\n",
    "numero3=7\n",
    "numero4=8"
   ]
  },
  {
   "cell_type": "code",
   "execution_count": 25,
   "id": "a94ee69c",
   "metadata": {},
   "outputs": [
    {
     "data": {
      "text/plain": [
       "False"
      ]
     },
     "execution_count": 25,
     "metadata": {},
     "output_type": "execute_result"
    }
   ],
   "source": [
    "numero1>numero2"
   ]
  },
  {
   "cell_type": "code",
   "execution_count": 26,
   "id": "8f13c3d2",
   "metadata": {},
   "outputs": [
    {
     "data": {
      "text/plain": [
       "False"
      ]
     },
     "execution_count": 26,
     "metadata": {},
     "output_type": "execute_result"
    }
   ],
   "source": [
    "# El not invierte el resultado\n",
    "not(numero1<numero2)"
   ]
  },
  {
   "cell_type": "code",
   "execution_count": 27,
   "id": "f0069b25",
   "metadata": {},
   "outputs": [
    {
     "data": {
      "text/plain": [
       "True"
      ]
     },
     "execution_count": 27,
     "metadata": {},
     "output_type": "execute_result"
    }
   ],
   "source": [
    "numero1<numero2 and numero3<numero4 "
   ]
  },
  {
   "cell_type": "code",
   "execution_count": 29,
   "id": "8bc6de81",
   "metadata": {},
   "outputs": [
    {
     "data": {
      "text/plain": [
       "True"
      ]
     },
     "execution_count": 29,
     "metadata": {},
     "output_type": "execute_result"
    }
   ],
   "source": [
    "# Tambien puedes utilizar arentesis para ordenar tu operacion\n",
    "(numero1<numero2 and numero3<numero4) or (numero3>numero4)"
   ]
  },
  {
   "cell_type": "code",
   "execution_count": 30,
   "id": "3389a1ee",
   "metadata": {},
   "outputs": [],
   "source": [
    "# 5.5 Operadores de pertenencia\n",
    "# Se tiene: in, not in"
   ]
  },
  {
   "cell_type": "code",
   "execution_count": 31,
   "id": "7608befc",
   "metadata": {},
   "outputs": [],
   "source": [
    "# Ejemplo\n",
    "aula=[\"Juan\", \"Daniel\", \"Ruben\"]\n",
    "alumno1=\"Diego\"\n",
    "alumno2=\"Juan\""
   ]
  },
  {
   "cell_type": "code",
   "execution_count": 32,
   "id": "0e0cce76",
   "metadata": {},
   "outputs": [
    {
     "data": {
      "text/plain": [
       "False"
      ]
     },
     "execution_count": 32,
     "metadata": {},
     "output_type": "execute_result"
    }
   ],
   "source": [
    "# ¿Diego esta en el aula?\n",
    "alumno1 in aula"
   ]
  },
  {
   "cell_type": "code",
   "execution_count": 33,
   "id": "90933626",
   "metadata": {},
   "outputs": [
    {
     "data": {
      "text/plain": [
       "True"
      ]
     },
     "execution_count": 33,
     "metadata": {},
     "output_type": "execute_result"
    }
   ],
   "source": [
    "# ¿Juan esta en aula?\n",
    "alumno2 in aula"
   ]
  },
  {
   "cell_type": "code",
   "execution_count": 34,
   "id": "38e557d0",
   "metadata": {},
   "outputs": [
    {
     "data": {
      "text/plain": [
       "True"
      ]
     },
     "execution_count": 34,
     "metadata": {},
     "output_type": "execute_result"
    }
   ],
   "source": [
    "# ¿Diego no esta en el aula?\n",
    "alumno1 not in aula"
   ]
  },
  {
   "cell_type": "code",
   "execution_count": 35,
   "id": "2285095c",
   "metadata": {},
   "outputs": [
    {
     "data": {
      "text/plain": [
       "False"
      ]
     },
     "execution_count": 35,
     "metadata": {},
     "output_type": "execute_result"
    }
   ],
   "source": [
    "# ¿Juan no esta en aula?\n",
    "alumno2 not in aula"
   ]
  },
  {
   "cell_type": "code",
   "execution_count": 36,
   "id": "c82d56fc",
   "metadata": {},
   "outputs": [],
   "source": [
    "# 5.5 Operadores de identidad\n",
    "# Se tiene: is, is not"
   ]
  },
  {
   "cell_type": "code",
   "execution_count": 38,
   "id": "50513054",
   "metadata": {},
   "outputs": [],
   "source": [
    "aula1=[\"Juan\", \"Daniel\", \"Ruben\"]\n",
    "aula2=[\"Juan\", \"Daniel\", \"Ruben\"]\n",
    "# A continuacion vamos a indicar que aula 3 va a compartir el mismo objeto que aula 1\n",
    "aula3 = aula1"
   ]
  },
  {
   "cell_type": "code",
   "execution_count": 41,
   "id": "d1c984d1",
   "metadata": {},
   "outputs": [
    {
     "data": {
      "text/plain": [
       "True"
      ]
     },
     "execution_count": 41,
     "metadata": {},
     "output_type": "execute_result"
    }
   ],
   "source": [
    "# ¿aula3 comparte el mismo objeto que aula1?\n",
    "aula3 is aula1"
   ]
  },
  {
   "cell_type": "code",
   "execution_count": 51,
   "id": "17a6bc7c",
   "metadata": {},
   "outputs": [
    {
     "data": {
      "text/plain": [
       "False"
      ]
     },
     "execution_count": 51,
     "metadata": {},
     "output_type": "execute_result"
    }
   ],
   "source": [
    "# ¿aula3 comparte el mismo objeto que aula2?\n",
    "aula3 is aula2"
   ]
  },
  {
   "cell_type": "code",
   "execution_count": 52,
   "id": "441d1589",
   "metadata": {},
   "outputs": [
    {
     "data": {
      "text/plain": [
       "False"
      ]
     },
     "execution_count": 52,
     "metadata": {},
     "output_type": "execute_result"
    }
   ],
   "source": [
    "# ¿aula2 comparte el mismo objeto que aula1?\n",
    "aula2 is aula1"
   ]
  },
  {
   "cell_type": "code",
   "execution_count": 46,
   "id": "920caccb",
   "metadata": {},
   "outputs": [],
   "source": [
    "aula1.append(\"Diego\")"
   ]
  },
  {
   "cell_type": "code",
   "execution_count": 48,
   "id": "5d6e4c9c",
   "metadata": {},
   "outputs": [
    {
     "name": "stdout",
     "output_type": "stream",
     "text": [
      "['Juan', 'Daniel', 'Ruben', 'Diego']\n"
     ]
    }
   ],
   "source": [
    "# Al imrimir los elementos de la lista aula1 se observa\n",
    "print(aula1)"
   ]
  },
  {
   "cell_type": "code",
   "execution_count": 53,
   "id": "7efdc9aa",
   "metadata": {},
   "outputs": [
    {
     "name": "stdout",
     "output_type": "stream",
     "text": [
      "['Juan', 'Daniel', 'Ruben', 'Diego']\n"
     ]
    }
   ],
   "source": [
    "print(aula3)"
   ]
  },
  {
   "cell_type": "code",
   "execution_count": 54,
   "id": "6952664e",
   "metadata": {},
   "outputs": [],
   "source": [
    "aula3=aula2"
   ]
  },
  {
   "cell_type": "code",
   "execution_count": 55,
   "id": "52a21bc9",
   "metadata": {},
   "outputs": [
    {
     "name": "stdout",
     "output_type": "stream",
     "text": [
      "['Juan', 'Daniel', 'Ruben']\n"
     ]
    }
   ],
   "source": [
    "print(aula3)"
   ]
  },
  {
   "cell_type": "code",
   "execution_count": 56,
   "id": "dae1e87f",
   "metadata": {},
   "outputs": [],
   "source": [
    "aula3.append(\"Diego en 3\")"
   ]
  },
  {
   "cell_type": "code",
   "execution_count": 57,
   "id": "4aa1961d",
   "metadata": {},
   "outputs": [
    {
     "name": "stdout",
     "output_type": "stream",
     "text": [
      "['Juan', 'Daniel', 'Ruben', 'Diego en 3']\n"
     ]
    }
   ],
   "source": [
    "print(aula3)"
   ]
  },
  {
   "cell_type": "code",
   "execution_count": 58,
   "id": "76169d43",
   "metadata": {},
   "outputs": [
    {
     "name": "stdout",
     "output_type": "stream",
     "text": [
      "['Juan', 'Daniel', 'Ruben', 'Diego en 3']\n"
     ]
    }
   ],
   "source": [
    "print(aula2)"
   ]
  },
  {
   "cell_type": "code",
   "execution_count": null,
   "id": "efe43779",
   "metadata": {},
   "outputs": [],
   "source": [
    "\n"
   ]
  }
 ],
 "metadata": {
  "kernelspec": {
   "display_name": "Python 3 (ipykernel)",
   "language": "python",
   "name": "python3"
  },
  "language_info": {
   "codemirror_mode": {
    "name": "ipython",
    "version": 3
   },
   "file_extension": ".py",
   "mimetype": "text/x-python",
   "name": "python",
   "nbconvert_exporter": "python",
   "pygments_lexer": "ipython3",
   "version": "3.9.7"
  }
 },
 "nbformat": 4,
 "nbformat_minor": 5
}
