{
 "cells": [
  {
   "cell_type": "markdown",
   "id": "88a8d27c",
   "metadata": {},
   "source": [
    "# Semana 05\n",
    "Carlos Grandos Pretel\n"
   ]
  },
  {
   "cell_type": "markdown",
   "id": "20ba0dbf",
   "metadata": {},
   "source": [
    "Temas"
   ]
  },
  {
   "cell_type": "markdown",
   "id": "082f2aa4",
   "metadata": {},
   "source": [
    "1. Números\n",
    "2. Variables\n",
    "3. Manejo de Cadenas\n",
    "3. Ingreso de datos por teclado\n",
    "5. Operadores"
   ]
  },
  {
   "cell_type": "markdown",
   "id": "87430314",
   "metadata": {},
   "source": [
    "4. Ingreso de Datos por teclado"
   ]
  },
  {
   "cell_type": "code",
   "execution_count": 5,
   "id": "7171acac",
   "metadata": {},
   "outputs": [
    {
     "name": "stdout",
     "output_type": "stream",
     "text": [
      "¿Cual es su nombre?\n",
      "carlos\n",
      "Hola carlos\n"
     ]
    }
   ],
   "source": [
    "# Funcion input()\n",
    "print(\"¿Cual es su nombre?\")\n",
    "nombre=input()\n",
    "print(\"Hola \"+nombre)"
   ]
  },
  {
   "cell_type": "code",
   "execution_count": 6,
   "id": "84cfba69",
   "metadata": {},
   "outputs": [
    {
     "name": "stdout",
     "output_type": "stream",
     "text": [
      "Numero 1\n",
      "3\n",
      "Numero 2\n",
      "4\n",
      "7\n"
     ]
    }
   ],
   "source": [
    "# Cuando ingresas un numero por teclado lo hace como cadena\n",
    "print(\"Numero 1\")\n",
    "numero1=input()\n",
    "print(\"Numero 2\")\n",
    "numero2=input()\n",
    "numero3=int(numero1)+int(numero2)\n",
    "print(numero3)"
   ]
  },
  {
   "cell_type": "code",
   "execution_count": null,
   "id": "fac302f9",
   "metadata": {},
   "outputs": [],
   "source": []
  }
 ],
 "metadata": {
  "kernelspec": {
   "display_name": "Python 3 (ipykernel)",
   "language": "python",
   "name": "python3"
  },
  "language_info": {
   "codemirror_mode": {
    "name": "ipython",
    "version": 3
   },
   "file_extension": ".py",
   "mimetype": "text/x-python",
   "name": "python",
   "nbconvert_exporter": "python",
   "pygments_lexer": "ipython3",
   "version": "3.9.7"
  }
 },
 "nbformat": 4,
 "nbformat_minor": 5
}
