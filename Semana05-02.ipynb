{
 "cells": [
  {
   "cell_type": "markdown",
   "id": "6e4a3ed9",
   "metadata": {},
   "source": [
    "# Semana 05\n",
    "Carlos Eduardo Granados Pretel"
   ]
  },
  {
   "cell_type": "markdown",
   "id": "308d6374",
   "metadata": {},
   "source": [
    "Temas:"
   ]
  },
  {
   "cell_type": "markdown",
   "id": "bd8a0c70",
   "metadata": {},
   "source": [
    "1. Números\n",
    "2. Variables\n",
    "3. Manejo de Cadenas\n",
    "3. Ingreso de datos por teclado\n",
    "5. Operadores"
   ]
  },
  {
   "cell_type": "markdown",
   "id": "4b778d2c",
   "metadata": {},
   "source": [
    "2. Variables"
   ]
  },
  {
   "cell_type": "code",
   "execution_count": 1,
   "id": "1e5cfe21",
   "metadata": {},
   "outputs": [],
   "source": [
    "#Siempre deben iniciar con una letra o un guión abajo. (Nunca con un número u otro simbolo)"
   ]
  },
  {
   "cell_type": "code",
   "execution_count": 6,
   "id": "3a7cc82a",
   "metadata": {},
   "outputs": [
    {
     "data": {
      "text/plain": [
       "20"
      ]
     },
     "execution_count": 6,
     "metadata": {},
     "output_type": "execute_result"
    }
   ],
   "source": [
    "edad=20\n",
    "edad"
   ]
  },
  {
   "cell_type": "code",
   "execution_count": 4,
   "id": "bbc7189f",
   "metadata": {},
   "outputs": [
    {
     "data": {
      "text/plain": [
       "'Carlos'"
      ]
     },
     "execution_count": 4,
     "metadata": {},
     "output_type": "execute_result"
    }
   ],
   "source": [
    "nombre = \"Carlos\"\n",
    "nombre"
   ]
  },
  {
   "cell_type": "code",
   "execution_count": 5,
   "id": "80beb669",
   "metadata": {},
   "outputs": [
    {
     "data": {
      "text/plain": [
       "'Granados Pretel'"
      ]
     },
     "execution_count": 5,
     "metadata": {},
     "output_type": "execute_result"
    }
   ],
   "source": [
    "apellido = \"Granados Pretel\"\n",
    "apellido"
   ]
  },
  {
   "cell_type": "code",
   "execution_count": 11,
   "id": "7f6b4bf1",
   "metadata": {},
   "outputs": [
    {
     "data": {
      "text/plain": [
       "'CarlosGranados Pretel'"
      ]
     },
     "execution_count": 11,
     "metadata": {},
     "output_type": "execute_result"
    }
   ],
   "source": [
    "nombrecompleto = nombre+apellido\n",
    "nombrecompleto"
   ]
  },
  {
   "cell_type": "code",
   "execution_count": 10,
   "id": "aeee6d66",
   "metadata": {},
   "outputs": [
    {
     "data": {
      "text/plain": [
       "'Carlos Granados Pretel'"
      ]
     },
     "execution_count": 10,
     "metadata": {},
     "output_type": "execute_result"
    }
   ],
   "source": [
    "nombrecompleto = nombre+ \" \" +apellido\n",
    "nombrecompleto"
   ]
  },
  {
   "cell_type": "code",
   "execution_count": 15,
   "id": "b4201b90",
   "metadata": {},
   "outputs": [],
   "source": [
    "# Para saber el tipo de variable utilizamos la funcion type()\n",
    "# Por ejemplo"
   ]
  },
  {
   "cell_type": "code",
   "execution_count": 16,
   "id": "5f89a1e2",
   "metadata": {},
   "outputs": [
    {
     "data": {
      "text/plain": [
       "int"
      ]
     },
     "execution_count": 16,
     "metadata": {},
     "output_type": "execute_result"
    }
   ],
   "source": [
    "numero=500\n",
    "type(numero)"
   ]
  },
  {
   "cell_type": "code",
   "execution_count": 17,
   "id": "dac91c15",
   "metadata": {},
   "outputs": [
    {
     "data": {
      "text/plain": [
       "str"
      ]
     },
     "execution_count": 17,
     "metadata": {},
     "output_type": "execute_result"
    }
   ],
   "source": [
    "type(nombre)"
   ]
  },
  {
   "cell_type": "code",
   "execution_count": 24,
   "id": "9f64e17b",
   "metadata": {},
   "outputs": [
    {
     "data": {
      "text/plain": [
       "1.78"
      ]
     },
     "execution_count": 24,
     "metadata": {},
     "output_type": "execute_result"
    }
   ],
   "source": [
    "talla=1.78\n",
    "talla"
   ]
  },
  {
   "cell_type": "code",
   "execution_count": 26,
   "id": "87afca0c",
   "metadata": {},
   "outputs": [
    {
     "data": {
      "text/plain": [
       "float"
      ]
     },
     "execution_count": 26,
     "metadata": {},
     "output_type": "execute_result"
    }
   ],
   "source": [
    "type(talla)"
   ]
  },
  {
   "cell_type": "code",
   "execution_count": 39,
   "id": "91a4b433",
   "metadata": {},
   "outputs": [
    {
     "data": {
      "text/plain": [
       "'200'"
      ]
     },
     "execution_count": 39,
     "metadata": {},
     "output_type": "execute_result"
    }
   ],
   "source": [
    "#Para convertir un numero en cadena usamos la funsion str()\n",
    "numero=200\n",
    "cadena=str(numero)\n",
    "cadena"
   ]
  },
  {
   "cell_type": "code",
   "execution_count": 31,
   "id": "993ca10d",
   "metadata": {},
   "outputs": [
    {
     "data": {
      "text/plain": [
       "str"
      ]
     },
     "execution_count": 31,
     "metadata": {},
     "output_type": "execute_result"
    }
   ],
   "source": [
    "type(cadena)"
   ]
  },
  {
   "cell_type": "code",
   "execution_count": 40,
   "id": "b245f904",
   "metadata": {},
   "outputs": [
    {
     "data": {
      "text/plain": [
       "50"
      ]
     },
     "execution_count": 40,
     "metadata": {},
     "output_type": "execute_result"
    }
   ],
   "source": [
    "# Para convertir una cadena en un entero utilizamos int()\n",
    "cadena2=\"50\"\n",
    "numero2=int(cadena2)\n",
    "numero2"
   ]
  },
  {
   "cell_type": "code",
   "execution_count": 41,
   "id": "982d6b17",
   "metadata": {},
   "outputs": [
    {
     "data": {
      "text/plain": [
       "int"
      ]
     },
     "execution_count": 41,
     "metadata": {},
     "output_type": "execute_result"
    }
   ],
   "source": [
    "type(numero2)"
   ]
  },
  {
   "cell_type": "code",
   "execution_count": 43,
   "id": "2d9f16f2",
   "metadata": {},
   "outputs": [
    {
     "data": {
      "text/plain": [
       "50.0"
      ]
     },
     "execution_count": 43,
     "metadata": {},
     "output_type": "execute_result"
    }
   ],
   "source": [
    "#Para convertir una cadena a un decimal utilizamos float()\n",
    "cadena2=\"50\"\n",
    "numero2=float(cadena2)\n",
    "numero2"
   ]
  },
  {
   "cell_type": "code",
   "execution_count": null,
   "id": "00ebb4e0",
   "metadata": {},
   "outputs": [],
   "source": []
  }
 ],
 "metadata": {
  "kernelspec": {
   "display_name": "Python 3 (ipykernel)",
   "language": "python",
   "name": "python3"
  },
  "language_info": {
   "codemirror_mode": {
    "name": "ipython",
    "version": 3
   },
   "file_extension": ".py",
   "mimetype": "text/x-python",
   "name": "python",
   "nbconvert_exporter": "python",
   "pygments_lexer": "ipython3",
   "version": "3.9.7"
  }
 },
 "nbformat": 4,
 "nbformat_minor": 5
}
